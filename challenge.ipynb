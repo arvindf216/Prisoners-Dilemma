{
 "cells": [
  {
   "cell_type": "code",
   "execution_count": 1,
   "id": "7d51bc2b-488e-4181-a1ab-52931bb27560",
   "metadata": {},
   "outputs": [
    {
     "name": "stderr",
     "output_type": "stream",
     "text": [
      "/usr/lib/python3/dist-packages/scipy/__init__.py:146: UserWarning: A NumPy version >=1.17.3 and <1.25.0 is required for this version of SciPy (detected version 1.26.4\n",
      "  warnings.warn(f\"A NumPy version >={np_minversion} and <{np_maxversion}\"\n"
     ]
    }
   ],
   "source": [
    "import numpy as np\n",
    "import pandas as pd\n",
    "import matplotlib.pyplot as plt\n",
    "from sklearn.cluster import KMeans\n",
    "from sklearn.preprocessing import LabelEncoder\n",
    "import random"
   ]
  },
  {
   "cell_type": "markdown",
   "id": "d6f484f4-bfa7-4b87-b51f-d71e8de94907",
   "metadata": {},
   "source": [
    "## Loading the Dataset"
   ]
  },
  {
   "cell_type": "code",
   "execution_count": 2,
   "id": "760dd345-c5c3-44ef-9805-a376c1a4b617",
   "metadata": {},
   "outputs": [],
   "source": [
    "data = pd.read_csv('input_game.csv')"
   ]
  },
  {
   "cell_type": "code",
   "execution_count": 3,
   "id": "d8f80837-633d-4b88-92cf-4d6bc1dc338d",
   "metadata": {},
   "outputs": [
    {
     "data": {
      "text/html": [
       "<div>\n",
       "<style scoped>\n",
       "    .dataframe tbody tr th:only-of-type {\n",
       "        vertical-align: middle;\n",
       "    }\n",
       "\n",
       "    .dataframe tbody tr th {\n",
       "        vertical-align: top;\n",
       "    }\n",
       "\n",
       "    .dataframe thead th {\n",
       "        text-align: right;\n",
       "    }\n",
       "</style>\n",
       "<table border=\"1\" class=\"dataframe\">\n",
       "  <thead>\n",
       "    <tr style=\"text-align: right;\">\n",
       "      <th></th>\n",
       "      <th>game_id</th>\n",
       "      <th>p1_id</th>\n",
       "      <th>p2_id</th>\n",
       "      <th>p1_action</th>\n",
       "      <th>p2_action</th>\n",
       "      <th>turn</th>\n",
       "    </tr>\n",
       "  </thead>\n",
       "  <tbody>\n",
       "    <tr>\n",
       "      <th>0</th>\n",
       "      <td>0</td>\n",
       "      <td>174</td>\n",
       "      <td>125</td>\n",
       "      <td>TRUST</td>\n",
       "      <td>CHEAT</td>\n",
       "      <td>1</td>\n",
       "    </tr>\n",
       "    <tr>\n",
       "      <th>1</th>\n",
       "      <td>0</td>\n",
       "      <td>174</td>\n",
       "      <td>125</td>\n",
       "      <td>CHEAT</td>\n",
       "      <td>TRUST</td>\n",
       "      <td>2</td>\n",
       "    </tr>\n",
       "    <tr>\n",
       "      <th>2</th>\n",
       "      <td>0</td>\n",
       "      <td>174</td>\n",
       "      <td>125</td>\n",
       "      <td>TRUST</td>\n",
       "      <td>TRUST</td>\n",
       "      <td>3</td>\n",
       "    </tr>\n",
       "    <tr>\n",
       "      <th>3</th>\n",
       "      <td>0</td>\n",
       "      <td>174</td>\n",
       "      <td>125</td>\n",
       "      <td>TRUST</td>\n",
       "      <td>TRUST</td>\n",
       "      <td>4</td>\n",
       "    </tr>\n",
       "    <tr>\n",
       "      <th>4</th>\n",
       "      <td>0</td>\n",
       "      <td>174</td>\n",
       "      <td>125</td>\n",
       "      <td>TRUST</td>\n",
       "      <td>TRUST</td>\n",
       "      <td>5</td>\n",
       "    </tr>\n",
       "    <tr>\n",
       "      <th>...</th>\n",
       "      <td>...</td>\n",
       "      <td>...</td>\n",
       "      <td>...</td>\n",
       "      <td>...</td>\n",
       "      <td>...</td>\n",
       "      <td>...</td>\n",
       "    </tr>\n",
       "    <tr>\n",
       "      <th>180401</th>\n",
       "      <td>3014</td>\n",
       "      <td>157</td>\n",
       "      <td>169</td>\n",
       "      <td>CHEAT</td>\n",
       "      <td>TRUST</td>\n",
       "      <td>64</td>\n",
       "    </tr>\n",
       "    <tr>\n",
       "      <th>180402</th>\n",
       "      <td>3014</td>\n",
       "      <td>157</td>\n",
       "      <td>169</td>\n",
       "      <td>CHEAT</td>\n",
       "      <td>TRUST</td>\n",
       "      <td>65</td>\n",
       "    </tr>\n",
       "    <tr>\n",
       "      <th>180403</th>\n",
       "      <td>3014</td>\n",
       "      <td>157</td>\n",
       "      <td>169</td>\n",
       "      <td>CHEAT</td>\n",
       "      <td>TRUST</td>\n",
       "      <td>66</td>\n",
       "    </tr>\n",
       "    <tr>\n",
       "      <th>180404</th>\n",
       "      <td>3014</td>\n",
       "      <td>157</td>\n",
       "      <td>169</td>\n",
       "      <td>CHEAT</td>\n",
       "      <td>TRUST</td>\n",
       "      <td>67</td>\n",
       "    </tr>\n",
       "    <tr>\n",
       "      <th>180405</th>\n",
       "      <td>3014</td>\n",
       "      <td>157</td>\n",
       "      <td>169</td>\n",
       "      <td>CHEAT</td>\n",
       "      <td>TRUST</td>\n",
       "      <td>68</td>\n",
       "    </tr>\n",
       "  </tbody>\n",
       "</table>\n",
       "<p>180406 rows × 6 columns</p>\n",
       "</div>"
      ],
      "text/plain": [
       "        game_id  p1_id  p2_id p1_action p2_action  turn\n",
       "0             0    174    125     TRUST     CHEAT     1\n",
       "1             0    174    125     CHEAT     TRUST     2\n",
       "2             0    174    125     TRUST     TRUST     3\n",
       "3             0    174    125     TRUST     TRUST     4\n",
       "4             0    174    125     TRUST     TRUST     5\n",
       "...         ...    ...    ...       ...       ...   ...\n",
       "180401     3014    157    169     CHEAT     TRUST    64\n",
       "180402     3014    157    169     CHEAT     TRUST    65\n",
       "180403     3014    157    169     CHEAT     TRUST    66\n",
       "180404     3014    157    169     CHEAT     TRUST    67\n",
       "180405     3014    157    169     CHEAT     TRUST    68\n",
       "\n",
       "[180406 rows x 6 columns]"
      ]
     },
     "execution_count": 3,
     "metadata": {},
     "output_type": "execute_result"
    }
   ],
   "source": [
    "data"
   ]
  },
  {
   "cell_type": "code",
   "execution_count": 4,
   "id": "b61b0f65-edf9-4f6b-a5d2-c07f99812ab0",
   "metadata": {},
   "outputs": [],
   "source": [
    "games = []\n",
    "for game_id, group_df in data.groupby('game_id'):\n",
    "    games.append(group_df.copy())"
   ]
  },
  {
   "cell_type": "code",
   "execution_count": 5,
   "id": "1b9d407e-4a07-45e7-a2f3-6b4e39d3b404",
   "metadata": {},
   "outputs": [],
   "source": [
    "add = {'self_c': [], 'opp_c': [], 'self_t': [], 'opp_t': []}\n",
    "players = [pd.DataFrame(add) for i in range(1, 203)]"
   ]
  },
  {
   "cell_type": "code",
   "execution_count": 6,
   "id": "fd67c590-e836-4296-ae47-caf01f501598",
   "metadata": {},
   "outputs": [],
   "source": [
    "player_cheat = [0 for i in range(1, 203)]\n",
    "player_total = [0 for i in range(1, 203)]"
   ]
  },
  {
   "cell_type": "code",
   "execution_count": 7,
   "id": "26d74037-7a68-4987-97ac-dfd994e43b5c",
   "metadata": {},
   "outputs": [],
   "source": [
    "for game in games:\n",
    "    p1 = game['p1_id'].iloc[0]\n",
    "    p2 = game['p2_id'].iloc[0]\n",
    "\n",
    "    p1_t = len(game[game['p1_action'] == \"TRUST\"])\n",
    "    p1_c = len(game[game['p1_action'] == \"CHEAT\"])\n",
    "    p2_c = len(game[game['p2_action'] == \"TRUST\"])\n",
    "    p2_t = len(game[game['p2_action'] == \"CHEAT\"])\n",
    "    total = p1_t + p1_c\n",
    "\n",
    "    player_cheat[p1] += p1_c\n",
    "    player_total[p1] += total\n",
    "\n",
    "    player_cheat[p2] += p2_c\n",
    "    player_total[p2] += total\n",
    "\n",
    "    new_row = {'self_c': p1_c, 'opp_c': p2_c, 'self_t': p1_t, 'opp_t': p2_t}\n",
    "    players[p1].loc[len(players[p1].index)] = new_row\n",
    "    \n",
    "    new_row = {'self_c': p2_c, 'opp_c': p1_c, 'self_t': p2_t, 'opp_t': p1_t}\n",
    "    players[p2].loc[len(players[p2].index)] = new_row"
   ]
  },
  {
   "cell_type": "code",
   "execution_count": 8,
   "id": "8287afd9-e0ca-45e4-9b2a-adc9a351c04a",
   "metadata": {
    "scrolled": true
   },
   "outputs": [],
   "source": [
    "for i in range(1, 202):\n",
    "    player_cheat[i] /= player_total[i]"
   ]
  },
  {
   "cell_type": "markdown",
   "id": "a1b6e0fa-698e-4cf4-b43f-79eca29dfdbb",
   "metadata": {},
   "source": [
    "## Plotting Cheat Percentages over all games for a player"
   ]
  },
  {
   "cell_type": "code",
   "execution_count": 9,
   "id": "78ed3665-9899-433f-a522-59fe8c1bf64e",
   "metadata": {},
   "outputs": [
    {
     "data": {
      "text/plain": [
       "(array([ 1.,  0.,  0.,  0.,  0.,  3.,  0.,  1.,  0.,  0.,  1.,  1.,  0.,\n",
       "         1.,  2.,  4.,  0.,  1.,  3.,  3.,  3.,  3.,  8.,  3.,  9., 14.,\n",
       "        13., 17., 23., 12., 13., 13., 10.,  9.,  5.,  5.,  3.,  4.,  3.,\n",
       "         2.,  1.,  0.,  1.,  0.,  3.,  0.,  0.,  2.,  0.,  2.]),\n",
       " array([0.        , 0.01716184, 0.03432367, 0.05148551, 0.06864734,\n",
       "        0.08580918, 0.10297101, 0.12013285, 0.13729469, 0.15445652,\n",
       "        0.17161836, 0.18878019, 0.20594203, 0.22310386, 0.2402657 ,\n",
       "        0.25742754, 0.27458937, 0.29175121, 0.30891304, 0.32607488,\n",
       "        0.34323671, 0.36039855, 0.37756039, 0.39472222, 0.41188406,\n",
       "        0.42904589, 0.44620773, 0.46336957, 0.4805314 , 0.49769324,\n",
       "        0.51485507, 0.53201691, 0.54917874, 0.56634058, 0.58350242,\n",
       "        0.60066425, 0.61782609, 0.63498792, 0.65214976, 0.66931159,\n",
       "        0.68647343, 0.70363527, 0.7207971 , 0.73795894, 0.75512077,\n",
       "        0.77228261, 0.78944444, 0.80660628, 0.82376812, 0.84092995,\n",
       "        0.85809179]),\n",
       " <BarContainer object of 50 artists>)"
      ]
     },
     "execution_count": 9,
     "metadata": {},
     "output_type": "execute_result"
    },
    {
     "data": {
      "image/png": "[encoded data removed]",
      "text/plain": [
       "<Figure size 432x288 with 1 Axes>"
      ]
     },
     "metadata": {
      "needs_background": "light"
     },
     "output_type": "display_data"
    }
   ],
   "source": [
    "plt.hist(player_cheat, bins=50, edgecolor='black')"
   ]
  },
  {
   "cell_type": "markdown",
   "id": "2998f7ad-e2d4-4133-99c3-d52afa25ae0e",
   "metadata": {},
   "source": [
    "## Observations\n",
    "- We can clearly see some players almost always playing \"CHEAT\" and some players never playing \"CHEAT\"\n",
    "- The players near the centre of the plot seem to playing \"CHEAT\" and \"TRUST\" almost equal number of times\n",
    "- Players could also been playing random moves which do not depend on the past information"
   ]
  },
  {
   "cell_type": "markdown",
   "id": "88aa3d91-8790-43c6-ae1e-de4d9308d079",
   "metadata": {},
   "source": [
    "## Using scores as a metric"
   ]
  },
  {
   "cell_type": "code",
   "execution_count": 10,
   "id": "33fb9494-85f9-474d-9216-50ff6cba6376",
   "metadata": {},
   "outputs": [],
   "source": [
    "score = {'score': []}\n",
    "scores = [pd.DataFrame(score) for i in range(0, 202)]"
   ]
  },
  {
   "cell_type": "code",
   "execution_count": 11,
   "id": "8a78681d-9e40-41a1-a5ea-7bfc9041a233",
   "metadata": {},
   "outputs": [],
   "source": [
    "for game in games:\n",
    "    p1_score = 0\n",
    "    p2_score = 0\n",
    "    p1 = game['p1_id'].iloc[0]\n",
    "    p2 = game['p2_id'].iloc[0]\n",
    "\n",
    "    game1 = game[game['p1_action'] == \"TRUST\"]\n",
    "    game1 = game1[game1['p2_action'] == \"TRUST\"]\n",
    "    p1_score += len(game1) * 2\n",
    "    p2_score += len(game1) * 2\n",
    "\n",
    "    game2 = game[game['p1_action'] == \"CHEAT\"]\n",
    "    game2 = game2[game2['p2_action'] == \"TRUST\"]\n",
    "    p1_score += len(game2) * (3)\n",
    "    p2_score += len(game2) * (-1)\n",
    "\n",
    "    game3 = game[game['p1_action'] == \"TRUST\"]\n",
    "    game3 = game3[game3['p2_action'] == \"CHEAT\"]\n",
    "    p1_score += len(game3) * (3)\n",
    "    p2_score += len(game3) * (-1)\n",
    "\n",
    "    game4 = game[game['p1_action'] == \"CHEAT\"]\n",
    "    game4 = game4[game4['p2_action'] == \"CHEAT\"]\n",
    "    p1_score += len(game4) * 0\n",
    "    p2_score += len(game4) * 0\n",
    "    \n",
    "    new_row = {'score': p1_score / len(game)}\n",
    "    scores[p1].loc[len(scores[p1].index)] = new_row\n",
    "\n",
    "    new_row = {'score': p2_score / len(game)}\n",
    "    scores[p2].loc[len(scores[p2].index)] = new_row"
   ]
  },
  {
   "cell_type": "code",
   "execution_count": 12,
   "id": "7ed07862-99ef-4237-9dc7-b22a192f7f6d",
   "metadata": {},
   "outputs": [],
   "source": [
    "player_scores = np.array([np.array(scores[i+1]['score']).mean() for i in range(201)])"
   ]
  },
  {
   "cell_type": "code",
   "execution_count": 13,
   "id": "fcf65c1b-2dbe-468f-b1c0-2f3320c08359",
   "metadata": {
    "scrolled": true
   },
   "outputs": [
    {
     "data": {
      "text/plain": [
       "array([ 0.75439055,  1.78695167,  1.59590257,  0.09093781,  1.09672789,\n",
       "        1.7119244 ,  1.545525  ,  2.01402664,  0.98003051, -0.10020318,\n",
       "        0.75255936,  1.20661677,  1.20648782,  0.06273676, -0.13142461,\n",
       "        1.63440092,  0.48392052,  0.60543458,  1.17504607,  1.31224769,\n",
       "        0.80464305,  0.51508218,  0.45048659,  1.54976118, -0.27128107,\n",
       "        0.20417637,  0.90816771,  0.0411537 ,  0.97814943,  0.84860759,\n",
       "        1.28988003,  1.5527564 , -0.24412725,  0.39933471,  0.93746997,\n",
       "        0.38525976,  1.12465137,  0.87189924,  1.51332936,  0.92617252,\n",
       "        2.02301745,  0.63851423,  1.78850773,  0.01075661,  0.55140202,\n",
       "        0.72787831,  1.74618724,  0.81981122,  0.65752306,  1.56729065,\n",
       "        0.14350205,  1.26790703,  0.62367245,  1.6262587 ,  0.32343911,\n",
       "        0.88883395,  0.51262817,  1.41527218,  0.78239758,  0.94903137,\n",
       "        2.06626227,  1.09217034,  1.3165153 ,  1.36063331,  0.44399896,\n",
       "        1.80110109,  0.77681196,  0.29734747,  1.26985735,  1.94535181,\n",
       "        1.23807045,  1.11302703,  1.7925188 ,  1.57596029,  1.54545349,\n",
       "        1.3879951 ,  1.05224129,  1.37093538,  0.43363925,  1.23475325,\n",
       "        2.21724369,  1.2119471 , -0.14762972,  1.57647801,  0.09821213,\n",
       "        1.66582698,  0.68988697,  1.84121666,  1.94835237,  1.13531316,\n",
       "        0.81070588,  0.77909841,  1.79511787,  1.73469274,  2.30135929,\n",
       "        1.33180352,  1.40784104,  0.82931806,  1.37498103,  1.9407208 ,\n",
       "        1.61981353,  1.46196392,  1.22959554,  1.5979788 ,  0.11509629,\n",
       "        0.37198902,  1.81934043,  0.59357178,  1.14353049, -0.03258406,\n",
       "        0.5541149 ,  0.37850947,  0.78581385,  1.22170414,  1.05065166,\n",
       "        1.31284874,  1.50647143,  1.20098971, -0.11779166,  1.89965651,\n",
       "        2.00991537, -0.02441264,  1.16407648, -0.30484117,  1.53649788,\n",
       "        1.00850176,  1.06925724,  0.96239671, -0.14166609,  1.42052183,\n",
       "        1.18988184,  0.82110979,  1.63678997,  1.38838974,  1.89783367,\n",
       "       -0.01758348,  1.08195157,  0.89702234,  2.24359459,  0.48864631,\n",
       "        0.74648522,  1.30531681,  1.15851326,  1.58376233,  1.96148977,\n",
       "        0.53169234,  1.73574356,  0.53548513,  0.84560401,  1.41180588,\n",
       "        0.67921817,  0.39008183,  1.47760156,  0.8065307 ,  1.49644261,\n",
       "        1.77391354,  1.70532218, -0.03832604,  0.53285759,  1.06616837,\n",
       "        0.77386484,  1.75900259,  0.5589792 ,  1.71584171,  1.17303726,\n",
       "        1.95965005,  0.60812655,  0.75732105,  0.91153363,  1.66463434,\n",
       "        1.98570779, -0.06026845,  0.45937375,  1.72796216,  1.35089209,\n",
       "        1.84572511,  0.34373939,  1.73882406,  1.64035303,  0.49556022,\n",
       "        0.96806353,  1.27710955,  1.63398175,  1.91777095,  1.47781414,\n",
       "        1.09751657,  1.76853694,  0.41596742,  1.1527797 ,  0.71209504,\n",
       "        0.65940231,  1.37840776,  2.20058268,  1.53578855,  1.46895661,\n",
       "        0.8866482 ,  1.05757255, -0.0266012 ,  1.39983837,  0.37832669,\n",
       "        1.2155033 ])"
      ]
     },
     "execution_count": 13,
     "metadata": {},
     "output_type": "execute_result"
    }
   ],
   "source": [
    "player_scores"
   ]
  },
  {
   "cell_type": "markdown",
   "id": "69f422db-5a7c-469a-8c77-6d3b9869dd97",
   "metadata": {},
   "source": [
    "#### ignore the error below"
   ]
  },
  {
   "cell_type": "code",
   "execution_count": 14,
   "id": "8cb19a8e-69eb-4eee-9000-af98a5287c80",
   "metadata": {},
   "outputs": [
    {
     "data": {
      "image/png": "[encoded data removed]",
      "text/plain": [
       "<Figure size 720x432 with 1 Axes>"
      ]
     },
     "metadata": {
      "needs_background": "light"
     },
     "output_type": "display_data"
    }
   ],
   "source": [
    "import matplotlib.pyplot as plt\n",
    "from sklearn.cluster import KMeans\n",
    "\n",
    "inertias = []\n",
    "for i in range(1, 15):\n",
    "    kmeans = KMeans(n_clusters=i)\n",
    "    kmeans.fit(player_scores.reshape(-1,1))\n",
    "    inertias.append(kmeans.inertia_)\n",
    "\n",
    "# Plot Inertia vs Number of Clusters\n",
    "plt.figure(figsize=(10, 6))\n",
    "plt.plot(range(1, 15), inertias, marker='o', markersize=2, linewidth=1)\n",
    "plt.xlabel('Number of Clusters')\n",
    "plt.ylabel('Inertia')\n",
    "plt.title('Inertia vs Number of Clusters')\n",
    "plt.show()\n"
   ]
  },
  {
   "cell_type": "markdown",
   "id": "e493375a-3229-4646-b6b9-08ea3796d61e",
   "metadata": {},
   "source": [
    "## Results\n",
    "- We identify 6 strategies due to the elbow at n = 6"
   ]
  },
  {
   "cell_type": "code",
   "execution_count": 15,
   "id": "5692008f-3f61-4a03-9f52-573402873c8c",
   "metadata": {},
   "outputs": [],
   "source": [
    "num_clusters = 6\n",
    "\n",
    "# Perform K-means clustering with the chosen number of clusters\n",
    "kmeans = KMeans(n_clusters=num_clusters)\n",
    "kmeans.fit(player_scores.reshape(-1,1))\n",
    "\n",
    "# Get the indices of samples belonging to each cluster\n",
    "indices_by_cluster = {}\n",
    "answer = []\n",
    "for cluster_label in range(num_clusters):\n",
    "    indices = [i+1 for i, label in enumerate(kmeans.labels_) if label == cluster_label]\n",
    "    indices_by_cluster[cluster_label] = indices\n",
    "    answer += [indices]"
   ]
  },
  {
   "cell_type": "code",
   "execution_count": 16,
   "id": "01820580-24ee-4862-9aba-dcff95d8e7f3",
   "metadata": {},
   "outputs": [],
   "source": [
    "string_representation = str(answer)\n",
    "\n",
    "# Write the string representation to a text file\n",
    "with open('list_of_lists.txt', 'w') as file:\n",
    "    file.write(string_representation)"
   ]
  },
  {
   "cell_type": "markdown",
   "id": "916b653d-a03a-4a75-bf62-d88d64cf9d80",
   "metadata": {},
   "source": [
    "## Defining Simulation Class"
   ]
  },
  {
   "cell_type": "code",
   "execution_count": 17,
   "id": "d2844545-6a6b-4c55-97e3-b221281ed8bb",
   "metadata": {},
   "outputs": [],
   "source": [
    "from enum import Enum\n",
    "from typing import List"
   ]
  },
  {
   "cell_type": "code",
   "execution_count": 18,
   "id": "9427d711-844f-4163-ae34-692a24fe9929",
   "metadata": {},
   "outputs": [],
   "source": [
    "class Action(Enum):\n",
    "    TRUST = 1\n",
    "    CHEAT = 2\n",
    "\n",
    "def strategy_trust(past_self, past_opponent):\n",
    "    return Action.TRUST\n",
    "\n",
    "def strategy_cheat(past_self, past_opponent):\n",
    "    return Action.CHEAT\n",
    "\n",
    "def strategy_tit_tat(past_self, past_opponent):\n",
    "    if len(past_self) == 0: \n",
    "        return Action.TRUST\n",
    "    return past_opponent[-1]\n",
    "\n",
    "def strategy_alternate(past_self, past_opponent):\n",
    "    if len(past_self) % 2 == 0:\n",
    "        return Action.TRUST\n",
    "    else:\n",
    "        return Action.CHEAT\n",
    "\n",
    "def strategy_tit2tat(past_self, past_opponent):\n",
    "    if len(past_self) < 2:\n",
    "        return Action.TRUST\n",
    "\n",
    "    if past_opponent[-1] == Action.CHEAT and past_opponent[-2] == Action.CHEAT:\n",
    "        return Action.CHEAT\n",
    "    return Action.TRUST\n",
    "\n",
    "def strategy_3t1c(past_self, past_opponent):\n",
    "    if len(past_self) % 4 == 3:\n",
    "        return Action.CHEAT\n",
    "    else:\n",
    "        return Action.TRUST\n",
    "\n",
    "def strategy_random(past_self, past_opponent):\n",
    "    random_number = random.randint(0, 1)\n",
    "    if random_number == 0:\n",
    "        return Action.TRUST\n",
    "    else:\n",
    "        return Action.CHEAT"
   ]
  },
  {
   "cell_type": "code",
   "execution_count": 19,
   "id": "4cb755af-7d84-44ab-b52b-4a8fb3b01fb5",
   "metadata": {},
   "outputs": [
    {
     "data": {
      "text/plain": [
       "dict_keys(['trust', 'cheat', 'tit-for-tat', 'alternate', 'tit2tat', 'random', 'strategy_3t1c'])"
      ]
     },
     "execution_count": 19,
     "metadata": {},
     "output_type": "execute_result"
    }
   ],
   "source": [
    "strats = {'trust': strategy_trust, 'cheat' : strategy_cheat, 'tit-for-tat' : strategy_tit_tat, 'alternate' : strategy_alternate, 'tit2tat' : strategy_tit2tat, 'random' : strategy_random, 'strategy_3t1c' : strategy_3t1c}\n",
    "scores_dict = {'trust':[], 'cheat':[], 'tit-for-tat':[], 'alternate':[], 'tit2tat' : [], 'random' : [], 'strategy_3t1c' : []}\n",
    "strategies = strats.keys()\n",
    "strategies"
   ]
  },
  {
   "cell_type": "markdown",
   "id": "92849171-d26e-4b3f-ba98-8adedd26320d",
   "metadata": {},
   "source": [
    "## Running Simulations"
   ]
  },
  {
   "cell_type": "code",
   "execution_count": 20,
   "id": "08b46524-eefe-4847-9478-f30c85bdb3ed",
   "metadata": {},
   "outputs": [],
   "source": [
    "def run_game(st1, st2, num_iter = 20, miscomm = False, var = 10):\n",
    "    past_self = []\n",
    "    past_opponent = []\n",
    "\n",
    "    strat1 = strats[st1]\n",
    "    strat2 = strats[st2]\n",
    "\n",
    "    p1_score = 0\n",
    "    p2_score = 0\n",
    "    for i in range(num_iter):\n",
    "        p1_move = strat1(past_self, past_opponent)\n",
    "        p2_move = strat2(past_opponent, past_self)\n",
    "        \n",
    "        if p1_move == Action.TRUST and p2_move == Action.TRUST:\n",
    "            p1_score += 2\n",
    "            p2_score += 2\n",
    "\n",
    "        if p1_move == Action.CHEAT and p2_move == Action.TRUST:\n",
    "            p1_score += 3\n",
    "            p2_score += -1\n",
    "\n",
    "        if p1_move == Action.TRUST and p2_move == Action.CHEAT:\n",
    "            p1_score += -1\n",
    "            p2_score += 3\n",
    "\n",
    "        if p1_move == Action.CHEAT and p2_move == Action.CHEAT:\n",
    "            p1_score += 0\n",
    "            p2_score += 0\n",
    "\n",
    "        if miscomm == True:\n",
    "            random_number = random.randint(1, 100)\n",
    "            if random_number <= var:\n",
    "                if p1_move == Action.TRUST:\n",
    "                    past_self.append(Action.CHEAT)\n",
    "                else:\n",
    "                    past_self.append(Action.TRUST)\n",
    "            else:\n",
    "                past_self.append(p1_move)\n",
    "\n",
    "            random_number = random.randint(1, 100)\n",
    "            if random_number <= var:\n",
    "                if p2_move == Action.TRUST:\n",
    "                    past_opponent.append(Action.CHEAT)\n",
    "                else:\n",
    "                    past_opponent.append(Action.TRUST)\n",
    "            else:\n",
    "                past_opponent.append(p2_move)\n",
    "\n",
    "        else:\n",
    "            past_self.append(p1_move)\n",
    "            past_opponent.append(p2_move)\n",
    "\n",
    "    p1_score /= num_iter\n",
    "    p2_score /= num_iter\n",
    "    \n",
    "    scores_dict[st1].append(p1_score)\n",
    "    scores_dict[st2].append(p2_score)"
   ]
  },
  {
   "cell_type": "code",
   "execution_count": 21,
   "id": "eb0606b2-84fa-4234-a23f-fcc0f13a9586",
   "metadata": {},
   "outputs": [],
   "source": [
    "iters = [random.randint(0, 500) for _ in range(50)]"
   ]
  },
  {
   "cell_type": "code",
   "execution_count": 22,
   "id": "262d20b2-9f2f-46e9-81b2-37ce226de197",
   "metadata": {},
   "outputs": [],
   "source": [
    "for strat1 in strategies:\n",
    "    for strat2 in strategies:\n",
    "        for iter in iters:\n",
    "            run_game(strat1, strat2, num_iter = iter, miscomm = False)"
   ]
  },
  {
   "cell_type": "code",
   "execution_count": 23,
   "id": "b8926307-f1c0-423c-9122-decd0ea4d97d",
   "metadata": {},
   "outputs": [
    {
     "name": "stdout",
     "output_type": "stream",
     "text": [
      "trust: Mean Score = 1.0410032103183136\n",
      "cheat: Mean Score = 1.1970045999374115\n",
      "tit-for-tat: Mean Score = 1.3564976749412079\n",
      "alternate: Mean Score = 1.320934458197691\n",
      "tit2tat: Mean Score = 1.2122704098410668\n",
      "random: Mean Score = 1.222402025289969\n",
      "strategy_3t1c: Mean Score = 1.181160334340598\n"
     ]
    },
    {
     "data": {
      "image/png": "[encoded data removed]",
      "text/plain": [
       "<Figure size 432x288 with 1 Axes>"
      ]
     },
     "metadata": {
      "needs_background": "light"
     },
     "output_type": "display_data"
    }
   ],
   "source": [
    "strategy_means = {strategy: np.mean(scores) for strategy, scores in scores_dict.items()}\n",
    "\n",
    "# Print strategy names and their mean scores\n",
    "for strategy, mean_score in strategy_means.items():\n",
    "    print(f\"{strategy}: Mean Score = {mean_score}\")\n",
    "\n",
    "# Plot mean scores for each strategy\n",
    "plt.bar(range(len(strategy_means)), list(strategy_means.values()), align='center')\n",
    "plt.xticks(range(len(strategy_means)), list(strategy_means.keys()), rotation=45)\n",
    "plt.xlabel('Strategies')\n",
    "plt.ylabel('Mean Score')\n",
    "plt.title('Mean Scores for Strategies')\n",
    "plt.show()"
   ]
  },
  {
   "cell_type": "markdown",
   "id": "ace96f4b-f61e-44db-9388-d01556964f15",
   "metadata": {},
   "source": [
    "## Running Simulations with Miscommunication"
   ]
  },
  {
   "cell_type": "code",
   "execution_count": 24,
   "id": "96d3cb57-1c52-444d-ae20-34468958ba26",
   "metadata": {},
   "outputs": [
    {
     "data": {
      "text/plain": [
       "dict_keys(['trust', 'cheat', 'tit-for-tat', 'alternate', 'tit2tat', 'random'])"
      ]
     },
     "execution_count": 24,
     "metadata": {},
     "output_type": "execute_result"
    }
   ],
   "source": [
    "strats = {'trust': strategy_trust, 'cheat' : strategy_cheat, 'tit-for-tat' : strategy_tit_tat, 'alternate' : strategy_alternate, 'tit2tat' : strategy_tit2tat, 'random' : strategy_random}\n",
    "scores_dict = {'trust':[], 'cheat':[], 'tit-for-tat':[], 'alternate':[], 'tit2tat' : [], 'random' : []}\n",
    "strategies = strats.keys()\n",
    "strategies"
   ]
  },
  {
   "cell_type": "code",
   "execution_count": 25,
   "id": "8dfa43a2-0bda-4fea-bc5a-042d5660f40c",
   "metadata": {},
   "outputs": [],
   "source": [
    "for strat1 in strategies:\n",
    "    for strat2 in strategies:\n",
    "        for iter in iters:\n",
    "            run_game(strat1, strat2, num_iter = iter, miscomm = True, var = 10)"
   ]
  },
  {
   "cell_type": "code",
   "execution_count": 26,
   "id": "7b79aeae-66b0-4969-afe3-593e461461f6",
   "metadata": {},
   "outputs": [
    {
     "name": "stdout",
     "output_type": "stream",
     "text": [
      "trust: Mean Score = 0.9422332690763505\n",
      "cheat: Mean Score = 1.1621122079051573\n",
      "tit-for-tat: Mean Score = 1.1720252412665226\n",
      "alternate: Mean Score = 1.202787976725957\n",
      "tit2tat: Mean Score = 1.1240285957891074\n",
      "random: Mean Score = 1.133324900039791\n"
     ]
    },
    {
     "data": {
      "image/png": "[encoded data removed]",
      "text/plain": [
       "<Figure size 432x288 with 1 Axes>"
      ]
     },
     "metadata": {
      "needs_background": "light"
     },
     "output_type": "display_data"
    }
   ],
   "source": [
    "strategy_means = {strategy: np.mean(scores) for strategy, scores in scores_dict.items()}\n",
    "\n",
    "# Print strategy names and their mean scores\n",
    "for strategy, mean_score in strategy_means.items():\n",
    "    print(f\"{strategy}: Mean Score = {mean_score}\")\n",
    "\n",
    "# Plot mean scores for each strategy\n",
    "plt.bar(range(len(strategy_means)), list(strategy_means.values()), align='center')\n",
    "plt.xticks(range(len(strategy_means)), list(strategy_means.keys()), rotation=45)\n",
    "plt.xlabel('Strategies')\n",
    "plt.ylabel('Mean Score')\n",
    "plt.title('Mean Scores for Strategies')\n",
    "plt.show()"
   ]
  },
  {
   "cell_type": "markdown",
   "id": "818cbe1a-715e-4280-8dc1-37efddf56676",
   "metadata": {},
   "source": [
    "## 20% Miscommunications"
   ]
  },
  {
   "cell_type": "code",
   "execution_count": 27,
   "id": "fb036b0f-2912-4f58-a8e0-c536550940bb",
   "metadata": {},
   "outputs": [
    {
     "data": {
      "text/plain": [
       "dict_keys(['trust', 'cheat', 'tit-for-tat', 'alternate', 'tit2tat', 'random'])"
      ]
     },
     "execution_count": 27,
     "metadata": {},
     "output_type": "execute_result"
    }
   ],
   "source": [
    "strats = {'trust': strategy_trust, 'cheat' : strategy_cheat, 'tit-for-tat' : strategy_tit_tat, 'alternate' : strategy_alternate, 'tit2tat' : strategy_tit2tat, 'random' : strategy_random}\n",
    "scores_dict = {'trust':[], 'cheat':[], 'tit-for-tat':[], 'alternate':[], 'tit2tat' : [], 'random' : []}\n",
    "strategies = strats.keys()\n",
    "strategies"
   ]
  },
  {
   "cell_type": "code",
   "execution_count": 28,
   "id": "e0547918-1f51-4eb9-8ecd-59fe35153023",
   "metadata": {},
   "outputs": [],
   "source": [
    "for strat1 in strategies:\n",
    "    for strat2 in strategies:\n",
    "        for iter in iters:\n",
    "            run_game(strat1, strat2, num_iter = iter, miscomm = True, var = 20)"
   ]
  },
  {
   "cell_type": "code",
   "execution_count": 29,
   "id": "87985ec6-6028-48d7-aad4-f5890bae2b41",
   "metadata": {},
   "outputs": [
    {
     "name": "stdout",
     "output_type": "stream",
     "text": [
      "trust: Mean Score = 0.8830076154716591\n",
      "cheat: Mean Score = 1.2929839520820878\n",
      "tit-for-tat: Mean Score = 1.1461502204999456\n",
      "alternate: Mean Score = 1.1783479053589512\n",
      "tit2tat: Mean Score = 1.0448135607377254\n",
      "random: Mean Score = 1.1267692198304298\n"
     ]
    },
    {
     "data": {
      "image/png": "[encoded data removed]",
      "text/plain": [
       "<Figure size 432x288 with 1 Axes>"
      ]
     },
     "metadata": {
      "needs_background": "light"
     },
     "output_type": "display_data"
    }
   ],
   "source": [
    "strategy_means = {strategy: np.mean(scores) for strategy, scores in scores_dict.items()}\n",
    "\n",
    "# Print strategy names and their mean scores\n",
    "for strategy, mean_score in strategy_means.items():\n",
    "    print(f\"{strategy}: Mean Score = {mean_score}\")\n",
    "\n",
    "# Plot mean scores for each strategy\n",
    "plt.bar(range(len(strategy_means)), list(strategy_means.values()), align='center')\n",
    "plt.xticks(range(len(strategy_means)), list(strategy_means.keys()), rotation=45)\n",
    "plt.xlabel('Strategies')\n",
    "plt.ylabel('Mean Score')\n",
    "plt.title('Mean Scores for Strategies')\n",
    "plt.show()"
   ]
  },
  {
   "cell_type": "markdown",
   "id": "c65bec60-7016-4063-af49-910250038a2f",
   "metadata": {},
   "source": [
    "## 50% Miscommunications"
   ]
  },
  {
   "cell_type": "code",
   "execution_count": 30,
   "id": "674940a5-d58e-45e2-9804-96098d3362ea",
   "metadata": {},
   "outputs": [
    {
     "data": {
      "text/plain": [
       "dict_keys(['trust', 'cheat', 'tit-for-tat', 'alternate', 'tit2tat', 'random'])"
      ]
     },
     "execution_count": 30,
     "metadata": {},
     "output_type": "execute_result"
    }
   ],
   "source": [
    "strats = {'trust': strategy_trust, 'cheat' : strategy_cheat, 'tit-for-tat' : strategy_tit_tat, 'alternate' : strategy_alternate, 'tit2tat' : strategy_tit2tat, 'random' : strategy_random}\n",
    "scores_dict = {'trust':[], 'cheat':[], 'tit-for-tat':[], 'alternate':[], 'tit2tat' : [], 'random' : []}\n",
    "strategies = strats.keys()\n",
    "strategies"
   ]
  },
  {
   "cell_type": "code",
   "execution_count": 31,
   "id": "23c6659a-a2a1-4092-a763-ae3bf54c0a6e",
   "metadata": {},
   "outputs": [],
   "source": [
    "for strat1 in strategies:\n",
    "    for strat2 in strategies:\n",
    "        for iter in iters:\n",
    "            run_game(strat1, strat2, num_iter = iter, miscomm = True, var = 50)"
   ]
  },
  {
   "cell_type": "code",
   "execution_count": 32,
   "id": "df547af3-8f0f-49d8-9e65-27d9e8ea62dc",
   "metadata": {},
   "outputs": [
    {
     "name": "stdout",
     "output_type": "stream",
     "text": [
      "trust: Mean Score = 0.6282417533298893\n",
      "cheat: Mean Score = 1.634387428260424\n",
      "tit-for-tat: Mean Score = 1.1289407006045638\n",
      "alternate: Mean Score = 1.1339115328665499\n",
      "tit2tat: Mean Score = 0.8738779751654278\n",
      "random: Mean Score = 1.1314907174810733\n"
     ]
    },
    {
     "data": {
      "image/png": "[encoded data removed]",
      "text/plain": [
       "<Figure size 432x288 with 1 Axes>"
      ]
     },
     "metadata": {
      "needs_background": "light"
     },
     "output_type": "display_data"
    }
   ],
   "source": [
    "strategy_means = {strategy: np.mean(scores) for strategy, scores in scores_dict.items()}\n",
    "\n",
    "# Print strategy names and their mean scores\n",
    "for strategy, mean_score in strategy_means.items():\n",
    "    print(f\"{strategy}: Mean Score = {mean_score}\")\n",
    "\n",
    "# Plot mean scores for each strategy\n",
    "plt.bar(range(len(strategy_means)), list(strategy_means.values()), align='center')\n",
    "plt.xticks(range(len(strategy_means)), list(strategy_means.keys()), rotation=45)\n",
    "plt.xlabel('Strategies')\n",
    "plt.ylabel('Mean Score')\n",
    "plt.title('Mean Scores for Strategies')\n",
    "plt.show()"
   ]
  },
  {
   "cell_type": "markdown",
   "id": "d5d108a0-71d2-4f51-9a27-177d23c96363",
   "metadata": {},
   "source": [
    "## 100% Miscommunications"
   ]
  },
  {
   "cell_type": "code",
   "execution_count": 33,
   "id": "f09a4ce1-8bff-4386-a36b-f92cd0c1e28b",
   "metadata": {},
   "outputs": [
    {
     "data": {
      "text/plain": [
       "dict_keys(['trust', 'cheat', 'tit-for-tat', 'alternate', 'tit2tat', 'random'])"
      ]
     },
     "execution_count": 33,
     "metadata": {},
     "output_type": "execute_result"
    }
   ],
   "source": [
    "strats = {'trust': strategy_trust, 'cheat' : strategy_cheat, 'tit-for-tat' : strategy_tit_tat, 'alternate' : strategy_alternate, 'tit2tat' : strategy_tit2tat, 'random' : strategy_random}\n",
    "scores_dict = {'trust':[], 'cheat':[], 'tit-for-tat':[], 'alternate':[], 'tit2tat' : [], 'random' : []}\n",
    "strategies = strats.keys()\n",
    "strategies"
   ]
  },
  {
   "cell_type": "code",
   "execution_count": 34,
   "id": "be4b6f3e-068c-48d4-91de-af64d7b4d4f5",
   "metadata": {},
   "outputs": [],
   "source": [
    "for strat1 in strategies:\n",
    "    for strat2 in strategies:\n",
    "        for iter in iters:\n",
    "            run_game(strat1, strat2, num_iter = iter, miscomm = True, var = 50)"
   ]
  },
  {
   "cell_type": "code",
   "execution_count": 35,
   "id": "e09757e9-55d8-4860-91c0-ef3dd02ba2ef",
   "metadata": {},
   "outputs": [
    {
     "name": "stdout",
     "output_type": "stream",
     "text": [
      "trust: Mean Score = 0.6349633946678289\n",
      "cheat: Mean Score = 1.6374779232021683\n",
      "tit-for-tat: Mean Score = 1.1237958572758353\n",
      "alternate: Mean Score = 1.1251880355305686\n",
      "tit2tat: Mean Score = 0.8750624078834877\n",
      "random: Mean Score = 1.1357410657714249\n"
     ]
    },
    {
     "data": {
      "image/png": "[encoded data removed]",
      "text/plain": [
       "<Figure size 432x288 with 1 Axes>"
      ]
     },
     "metadata": {
      "needs_background": "light"
     },
     "output_type": "display_data"
    }
   ],
   "source": [
    "strategy_means = {strategy: np.mean(scores) for strategy, scores in scores_dict.items()}\n",
    "\n",
    "# Print strategy names and their mean scores\n",
    "for strategy, mean_score in strategy_means.items():\n",
    "    print(f\"{strategy}: Mean Score = {mean_score}\")\n",
    "\n",
    "# Plot mean scores for each strategy\n",
    "plt.bar(range(len(strategy_means)), list(strategy_means.values()), align='center')\n",
    "plt.xticks(range(len(strategy_means)), list(strategy_means.keys()), rotation=45)\n",
    "plt.xlabel('Strategies')\n",
    "plt.ylabel('Mean Score')\n",
    "plt.title('Mean Scores for Strategies')\n",
    "plt.show()"
   ]
  },
  {
   "cell_type": "markdown",
   "id": "3c80a3d4-c97a-4167-86d8-beb4856c748e",
   "metadata": {},
   "source": [
    "As expected in this scenario Cheat would be best as the moves written are complete opposite of what were played"
   ]
  },
  {
   "cell_type": "code",
   "execution_count": null,
   "id": "df15e31a-5fcc-4804-aa5b-7e4091142a75",
   "metadata": {},
   "outputs": [],
   "source": []
  }
 ],
 "metadata": {
  "kernelspec": {
   "display_name": "Python 3 (ipykernel)",
   "language": "python",
   "name": "python3"
  },
  "language_info": {
   "codemirror_mode": {
    "name": "ipython",
    "version": 3
   },
   "file_extension": ".py",
   "mimetype": "text/x-python",
   "name": "python",
   "nbconvert_exporter": "python",
   "pygments_lexer": "ipython3",
   "version": "3.10.12"
  }
 },
 "nbformat": 4,
 "nbformat_minor": 5
}
